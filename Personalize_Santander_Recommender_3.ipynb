{
 "cells": [
  {
   "cell_type": "markdown",
   "metadata": {},
   "source": [
    "# Santander Bank Recommender System Demo 3/3\n",
    "## Testing AWS Personalize Recommender\n",
    "\n",
    "This notebook demonstrates how to test an AWS Personalize recommender using test files stored in S3. We'll load the data, make recommendations, and evaluate the results using precision@k metrics."
   ]
  },
  {
   "cell_type": "markdown",
   "metadata": {},
   "source": [
    "## Setup and Imports"
   ]
  },
  {
   "cell_type": "code",
   "execution_count": 1,
   "metadata": {},
   "outputs": [
    {
     "name": "stdout",
     "output_type": "stream",
     "text": [
      "Setup complete.\n"
     ]
    }
   ],
   "source": [
    "import pandas as pd\n",
    "import boto3\n",
    "import io\n",
    "from tqdm import tqdm\n",
    "from IPython.display import display, Markdown, HTML\n",
    "\n",
    "\n",
    "# AWS Setup\n",
    "s3 = boto3.client('s3')\n",
    "personalize_runtime = boto3.client('personalize-runtime')\n",
    "\n",
    "# Configuration\n",
    "bucket_name = 'souhail-work-bucket'\n",
    "campaign_arn = 'arn:aws:personalize:us-east-1:279988746206:campaign/SantanderCampaign'\n",
    "\n",
    "print(\"Setup complete.\")"
   ]
  },
  {
   "cell_type": "markdown",
   "metadata": {},
   "source": [
    "## Load Data from S3"
   ]
  },
  {
   "cell_type": "code",
   "execution_count": 2,
   "metadata": {},
   "outputs": [],
   "source": [
    "def load_csv_from_s3(bucket, key):\n",
    "    obj = s3.get_object(Bucket=bucket, Key=\"personalize-test-data/\"+key)\n",
    "    return pd.read_csv(io.BytesIO(obj['Body'].read()))\n"
   ]
  },
  {
   "cell_type": "code",
   "execution_count": 3,
   "metadata": {},
   "outputs": [
    {
     "name": "stdout",
     "output_type": "stream",
     "text": [
      "Loaded 895857 users, 24 items, and 1320939 interactions.\n"
     ]
    }
   ],
   "source": [
    "\n",
    "# Load test data\n",
    "users_df = load_csv_from_s3(bucket_name, 'Users.csv')\n",
    "items_df = load_csv_from_s3(bucket_name, 'Items.csv')\n",
    "interactions_df = load_csv_from_s3(bucket_name, 'Interactions.csv')\n",
    "\n",
    "print(f\"Loaded {len(users_df)} users, {len(items_df)} items, and {len(interactions_df)} interactions.\")"
   ]
  },
  {
   "cell_type": "markdown",
   "metadata": {},
   "source": [
    "## Verifying that the test dans train datasets are not overlapping"
   ]
  },
  {
   "cell_type": "code",
   "execution_count": 4,
   "metadata": {},
   "outputs": [],
   "source": [
    "import boto3\n",
    "import pandas as pd\n",
    "from io import StringIO\n",
    "\n",
    "def load_df_from_s3(bucket, key):\n",
    "    s3 = boto3.client('s3')\n",
    "    obj = s3.get_object(Bucket=bucket, Key=key)\n",
    "    body = obj['Body'].read().decode('utf-8')\n",
    "    return pd.read_csv(StringIO(body))\n",
    "\n",
    "\n",
    "# S3 bucket and file information\n",
    "bucket_name = 'souhail-work-bucket'\n",
    "file1_key = 'personalize-data/Interactions.csv'\n",
    "file2_key = 'personalize-test-data/Interactions.csv'\n",
    "\n",
    "# Load DataFrames from S3\n",
    "df1 = load_df_from_s3(bucket_name, file1_key)\n",
    "df2 = load_df_from_s3(bucket_name, file2_key)"
   ]
  },
  {
   "cell_type": "code",
   "execution_count": 5,
   "metadata": {},
   "outputs": [],
   "source": [
    "df3 = pd.concat([df1, df2], ignore_index=True).drop_duplicates()"
   ]
  },
  {
   "cell_type": "code",
   "execution_count": 6,
   "metadata": {
    "scrolled": true
   },
   "outputs": [
    {
     "data": {
      "text/plain": [
       "True"
      ]
     },
     "execution_count": 6,
     "metadata": {},
     "output_type": "execute_result"
    }
   ],
   "source": [
    "len(df1) + len(df2) ==len(df3)"
   ]
  },
  {
   "cell_type": "markdown",
   "metadata": {},
   "source": [
    "## Define Helper Functions"
   ]
  },
  {
   "cell_type": "code",
   "execution_count": 15,
   "metadata": {},
   "outputs": [
    {
     "name": "stdout",
     "output_type": "stream",
     "text": [
      "Helper functions defined.\n"
     ]
    }
   ],
   "source": [
    "def get_recommendations(user_id, num_recommendations=10):\n",
    "    try:\n",
    "        response = personalize_runtime.get_recommendations(\n",
    "            campaignArn=campaign_arn,\n",
    "            userId=str(user_id),\n",
    "            numResults=num_recommendations\n",
    "        )\n",
    "        return [item['itemId'] for item in response['itemList']]\n",
    "    except Exception as e:\n",
    "        print(f\"Error getting recommendations for user {user_id}: {str(e)}\")\n",
    "        return []\n",
    "\n",
    "def precision_at_k(actual, predicted, k):\n",
    "    act_set = set(actual[:k])\n",
    "    pred_set = set(predicted[:k])\n",
    "    result = len(act_set & pred_set) / float(k)\n",
    "    return result\n",
    "\n",
    "print(\"Helper functions defined.\")"
   ]
  },
  {
   "cell_type": "code",
   "execution_count": 16,
   "metadata": {},
   "outputs": [
    {
     "name": "stdout",
     "output_type": "stream",
     "text": [
      "Selected 5261 users with the most interactions.\n"
     ]
    }
   ],
   "source": [
    "# Select top 1000 users with most interactions\n",
    "user_interaction_counts = interactions_df['USER_ID'].value_counts()\n",
    "top_1000_users = user_interaction_counts.nlargest(1000).index.tolist()\n",
    "\n",
    "# Filter users_df to include only these 1000 users\n",
    "users_df_filtered = users_df[users_df['USER_ID'].isin(top_1000_users)]\n",
    "\n",
    "print(f\"Selected {len(users_df_filtered)} users with the most interactions.\")"
   ]
  },
  {
   "cell_type": "markdown",
   "metadata": {},
   "source": [
    "## Prepare Data for Testing"
   ]
  },
  {
   "cell_type": "code",
   "execution_count": 17,
   "metadata": {},
   "outputs": [
    {
     "name": "stdout",
     "output_type": "stream",
     "text": [
      "Prepared actual items for 216100 users.\n"
     ]
    }
   ],
   "source": [
    "# Get actual items for each user\n",
    "user_actual_items = interactions_df.groupby('USER_ID')['ITEM_ID'].agg(list).to_dict()\n",
    "\n",
    "print(f\"Prepared actual items for {len(user_actual_items)} users.\")"
   ]
  },
  {
   "cell_type": "markdown",
   "metadata": {},
   "source": [
    "## Test the Recommender"
   ]
  },
  {
   "cell_type": "code",
   "execution_count": 6,
   "metadata": {},
   "outputs": [
    {
     "name": "stderr",
     "output_type": "stream",
     "text": [
      "100%|██████████| 5261/5261 [02:32<00:00, 34.46it/s]"
     ]
    },
    {
     "name": "stdout",
     "output_type": "stream",
     "text": [
      "Testing complete.\n"
     ]
    },
    {
     "name": "stderr",
     "output_type": "stream",
     "text": [
      "\n"
     ]
    }
   ],
   "source": [
    "activate_cell = False\n",
    "\n",
    "if activatevate_cell:\n",
    "    results = []\n",
    "    for user_id in tqdm(users_df_filtered['USER_ID']):\n",
    "        actual_items = user_actual_items.get(user_id, [])\n",
    "        recommended_items = get_recommendations(user_id)\n",
    "        \n",
    "        precision_5 = precision_at_k(actual_items, recommended_items, 5)\n",
    "        precision_10 = precision_at_k(actual_items, recommended_items, 10)\n",
    "        \n",
    "        results.append({\n",
    "            'user_id': user_id,\n",
    "            'actual_items': actual_items,\n",
    "            'recommended_items': recommended_items,\n",
    "            'precision@5': precision_5,\n",
    "            'precision@10': precision_10\n",
    "        })\n",
    "    \n",
    "    results_df = pd.DataFrame(results)\n",
    "    print(\"Testing complete.\")\n",
    "else:\n",
    "    print(\"Recommender deactivated for cost purposes, latest testing completed: 100%|██████████| 5261/5261 [02:32<00:00, 34.46it/s]\n",
    "Testing complete.\")"
   ]
  },
  {
   "cell_type": "markdown",
   "metadata": {},
   "source": [
    "## Analyze Results"
   ]
  },
  {
   "cell_type": "code",
   "execution_count": 7,
   "metadata": {},
   "outputs": [
    {
     "name": "stdout",
     "output_type": "stream",
     "text": [
      "Average Precision@5: 0.2734\n",
      "Average Precision@10: 0.5064\n",
      "Results saved to 'recommendation_results.csv' in S3 bucket.\n"
     ]
    }
   ],
   "source": [
    "avg_precision_5 = results_df['precision@5'].mean()\n",
    "avg_precision_10 = results_df['precision@10'].mean()\n",
    "\n",
    "print(f\"Average Precision@5: {avg_precision_5:.4f}\")\n",
    "print(f\"Average Precision@10: {avg_precision_10:.4f}\")\n",
    "\n",
    "# Save results to S3\n",
    "csv_buffer = io.StringIO()\n",
    "results_df.to_csv(csv_buffer, index=False)\n",
    "s3.put_object(Bucket=bucket_name, Key='recommendation_results.csv', Body=csv_buffer.getvalue())\n",
    "print(\"Results saved to 'recommendation_results.csv' in S3 bucket.\")"
   ]
  },
  {
   "cell_type": "markdown",
   "metadata": {},
   "source": [
    "### Interpretation of the results:\n",
    "\n",
    "Precision@5: means that, on average, 27% of the top 5 recommended items for each user were actually interacted with by that user in the test set.\n",
    "Precision@10: means that, on average, 50% of the top 10 recommended items for each user were actually interacted with by that user in the test set."
   ]
  },
  {
   "cell_type": "markdown",
   "metadata": {},
   "source": [
    "## Analyze Recommendations for Specific Users"
   ]
  },
  {
   "cell_type": "markdown",
   "metadata": {},
   "source": [
    "Example user ids: 59401, 199855, 504959, 251965"
   ]
  },
  {
   "cell_type": "code",
   "execution_count": 7,
   "metadata": {},
   "outputs": [],
   "source": [
    "results_df = load_csv_from_s3(bucket_name, 'recommendation_results.csv')"
   ]
  },
  {
   "cell_type": "code",
   "execution_count": 19,
   "metadata": {},
   "outputs": [],
   "source": [
    "def analyze_user_recommendations(user_id, results_df, items_df, users_df):\n",
    "    user_result = results_df[results_df['user_id'] == user_id].iloc[0]\n",
    "    user_data = users_df[users_df['USER_ID'] == user_id].iloc[0]\n",
    "\n",
    "    display(Markdown(f\"# Recommendation Analysis for User ID: {user_id}\"))\n",
    "    \n",
    "    display(Markdown(\"## User Profile\"))\n",
    "    user_profile = pd.DataFrame({\n",
    "        'Attribute': ['Age', 'Customer Tenure', 'Income', 'New Customer', 'Segment', \n",
    "                      'Employee Index', 'Country of Residence', 'Sex', \n",
    "                      'Customer Activity Index', 'Province', 'Account Age (Days)'],\n",
    "        'Value': [user_data['AGE'], user_data['CUSTOMER_TENURE'], \n",
    "                  f\"${user_data['INCOME']:.2f}\", 'Yes' if user_data['NEW_CUSTOMER'] else 'No', \n",
    "                  user_data['SEGMENT'], user_data['EMPLOYEE_INDEX'], \n",
    "                  user_data['COUNTRY_RESIDENCE'], user_data['SEX'], \n",
    "                  user_data['CUSTOMER_ACTIVITY_INDEX'], user_data['PROVINCE_NAME'], \n",
    "                  user_data['ACCOUNT_AGE_DAYS']]\n",
    "    })\n",
    "    display(user_profile.style.set_properties(**{'text-align': 'left'}))\n",
    "\n",
    "    display(Markdown(\"## Important Note\"))\n",
    "    display(Markdown(\"This user is from the test dataset. Their interactions were not used to train the recommender system, \"\n",
    "                     \"ensuring that these recommendations are genuinely new and not based on known preferences.\"))\n",
    "\n",
    "    display(Markdown(\"## Precision Metrics\"))\n",
    "    metrics = pd.DataFrame({\n",
    "        'Metric': ['Precision@5', 'Precision@10'],\n",
    "        'Value': [f\"{user_result['precision@5']:.4f}\", f\"{user_result['precision@10']:.4f}\"]\n",
    "    })\n",
    "    display(metrics.style.set_properties(**{'text-align': 'left'}))\n",
    "\n",
    "    display(Markdown(\"### Explanation of Precision Metrics\"))\n",
    "    display(Markdown(\"Precision@K measures the proportion of recommended items in the top-K that are relevant.\\n\"\n",
    "                     \"- **Precision@5**: Out of the top 5 recommended items, this fraction was actually relevant to the user.\\n\"\n",
    "                     \"- **Precision@10**: Out of the top 10 recommended items, this fraction was actually relevant to the user.\\n\"\n",
    "                     \"A higher value indicates better recommendation accuracy.\"))\n",
    "\n",
    "    item_names = {\n",
    "        'ind_ahor_fin_ult1': 'Savings Account', 'ind_aval_fin_ult1': 'Guarantees',\n",
    "        'ind_cco_fin_ult1': 'Current Accounts', 'ind_cder_fin_ult1': 'Derivatives Account',\n",
    "        'ind_cno_fin_ult1': 'Payroll Account', 'ind_ctju_fin_ult1': 'Junior Account',\n",
    "        'ind_ctma_fin_ult1': 'Más Particular Account', 'ind_ctop_fin_ult1': 'Particular Plus Account',\n",
    "        'ind_ctpp_fin_ult1': 'Particular Account', 'ind_deco_fin_ult1': 'Short-term Deposits',\n",
    "        'ind_deme_fin_ult1': 'Medium-term Deposits', 'ind_dela_fin_ult1': 'Long-term Deposits',\n",
    "        'ind_ecue_fin_ult1': 'e-Account', 'ind_fond_fin_ult1': 'Funds',\n",
    "        'ind_hip_fin_ult1': 'Mortgage', 'ind_plan_fin_ult1': 'Pensions',\n",
    "        'ind_pres_fin_ult1': 'Loans', 'ind_reca_fin_ult1': 'Taxes',\n",
    "        'ind_tjcr_fin_ult1': 'Credit Card', 'ind_valo_fin_ult1': 'Securities',\n",
    "        'ind_viv_fin_ult1': 'Home Insurance', 'ind_nomina_ult1': 'Payroll',\n",
    "        'ind_nom_pens_ult1': 'Pensions', 'ind_recibo_ult1': 'Direct Debit'\n",
    "    }\n",
    "\n",
    "    recommended_items = list(dict.fromkeys(user_result['recommended_items'].strip('[]').replace(\"'\", \"\").split(', ')))\n",
    "    actual_items = list(dict.fromkeys(user_result['actual_items'].strip('[]').replace(\"'\", \"\").split(', ')))\n",
    "\n",
    "    display(Markdown(\"## Recommended Items Analysis\"))\n",
    "\n",
    "    display(Markdown(\"### Correctly Recommended Items (with rankings)\"))\n",
    "    correct_items = [f\" {item_names.get(item, item)} ({rank})\" for rank, item in enumerate(recommended_items, 1) if item in actual_items]\n",
    "    display(Markdown(\"\\n\".join(correct_items) if correct_items else \"None\"))\n",
    "\n",
    "    display(Markdown(\"### Incorrectly Recommended Items (with rankings)\"))\n",
    "    incorrect_items = [f\" {item_names.get(item, item)} ({rank})\" for rank, item in enumerate(recommended_items, 1) if item not in actual_items]\n",
    "    display(Markdown(\"\\n\".join(incorrect_items) if incorrect_items else \"None\"))\n",
    "\n",
    "    display(Markdown(\"### Unrecommended Items (Items in test data but not recommended)\"))\n",
    "    unrecommended_items = [f\"- {item_names.get(item, item)}\" for item in set(actual_items) - set(recommended_items)]\n",
    "    display(Markdown(\"\\n\".join(unrecommended_items) if unrecommended_items else \"None\"))\n",
    "\n",
    "    return user_result, user_data"
   ]
  },
  {
   "cell_type": "code",
   "execution_count": 21,
   "metadata": {},
   "outputs": [
    {
     "data": {
      "text/markdown": [
       "# Recommendation Analysis for User ID: 199855"
      ],
      "text/plain": [
       "<IPython.core.display.Markdown object>"
      ]
     },
     "metadata": {},
     "output_type": "display_data"
    },
    {
     "data": {
      "text/markdown": [
       "## User Profile"
      ],
      "text/plain": [
       "<IPython.core.display.Markdown object>"
      ]
     },
     "metadata": {},
     "output_type": "display_data"
    },
    {
     "data": {
      "text/html": [
       "<style type=\"text/css\">\n",
       "#T_a96d9_row0_col0, #T_a96d9_row0_col1, #T_a96d9_row1_col0, #T_a96d9_row1_col1, #T_a96d9_row2_col0, #T_a96d9_row2_col1, #T_a96d9_row3_col0, #T_a96d9_row3_col1, #T_a96d9_row4_col0, #T_a96d9_row4_col1, #T_a96d9_row5_col0, #T_a96d9_row5_col1, #T_a96d9_row6_col0, #T_a96d9_row6_col1, #T_a96d9_row7_col0, #T_a96d9_row7_col1, #T_a96d9_row8_col0, #T_a96d9_row8_col1, #T_a96d9_row9_col0, #T_a96d9_row9_col1, #T_a96d9_row10_col0, #T_a96d9_row10_col1 {\n",
       "  text-align: left;\n",
       "}\n",
       "</style>\n",
       "<table id=\"T_a96d9\">\n",
       "  <thead>\n",
       "    <tr>\n",
       "      <th class=\"blank level0\" >&nbsp;</th>\n",
       "      <th id=\"T_a96d9_level0_col0\" class=\"col_heading level0 col0\" >Attribute</th>\n",
       "      <th id=\"T_a96d9_level0_col1\" class=\"col_heading level0 col1\" >Value</th>\n",
       "    </tr>\n",
       "  </thead>\n",
       "  <tbody>\n",
       "    <tr>\n",
       "      <th id=\"T_a96d9_level0_row0\" class=\"row_heading level0 row0\" >0</th>\n",
       "      <td id=\"T_a96d9_row0_col0\" class=\"data row0 col0\" >Age</td>\n",
       "      <td id=\"T_a96d9_row0_col1\" class=\"data row0 col1\" >43</td>\n",
       "    </tr>\n",
       "    <tr>\n",
       "      <th id=\"T_a96d9_level0_row1\" class=\"row_heading level0 row1\" >1</th>\n",
       "      <td id=\"T_a96d9_row1_col0\" class=\"data row1 col0\" >Customer Tenure</td>\n",
       "      <td id=\"T_a96d9_row1_col1\" class=\"data row1 col1\" >182</td>\n",
       "    </tr>\n",
       "    <tr>\n",
       "      <th id=\"T_a96d9_level0_row2\" class=\"row_heading level0 row2\" >2</th>\n",
       "      <td id=\"T_a96d9_row2_col0\" class=\"data row2 col0\" >Income</td>\n",
       "      <td id=\"T_a96d9_row2_col1\" class=\"data row2 col1\" >$85648.56</td>\n",
       "    </tr>\n",
       "    <tr>\n",
       "      <th id=\"T_a96d9_level0_row3\" class=\"row_heading level0 row3\" >3</th>\n",
       "      <td id=\"T_a96d9_row3_col0\" class=\"data row3 col0\" >New Customer</td>\n",
       "      <td id=\"T_a96d9_row3_col1\" class=\"data row3 col1\" >No</td>\n",
       "    </tr>\n",
       "    <tr>\n",
       "      <th id=\"T_a96d9_level0_row4\" class=\"row_heading level0 row4\" >4</th>\n",
       "      <td id=\"T_a96d9_row4_col0\" class=\"data row4 col0\" >Segment</td>\n",
       "      <td id=\"T_a96d9_row4_col1\" class=\"data row4 col1\" >02 - PARTICULARES</td>\n",
       "    </tr>\n",
       "    <tr>\n",
       "      <th id=\"T_a96d9_level0_row5\" class=\"row_heading level0 row5\" >5</th>\n",
       "      <td id=\"T_a96d9_row5_col0\" class=\"data row5 col0\" >Employee Index</td>\n",
       "      <td id=\"T_a96d9_row5_col1\" class=\"data row5 col1\" >N</td>\n",
       "    </tr>\n",
       "    <tr>\n",
       "      <th id=\"T_a96d9_level0_row6\" class=\"row_heading level0 row6\" >6</th>\n",
       "      <td id=\"T_a96d9_row6_col0\" class=\"data row6 col0\" >Country of Residence</td>\n",
       "      <td id=\"T_a96d9_row6_col1\" class=\"data row6 col1\" >ES</td>\n",
       "    </tr>\n",
       "    <tr>\n",
       "      <th id=\"T_a96d9_level0_row7\" class=\"row_heading level0 row7\" >7</th>\n",
       "      <td id=\"T_a96d9_row7_col0\" class=\"data row7 col0\" >Sex</td>\n",
       "      <td id=\"T_a96d9_row7_col1\" class=\"data row7 col1\" >V</td>\n",
       "    </tr>\n",
       "    <tr>\n",
       "      <th id=\"T_a96d9_level0_row8\" class=\"row_heading level0 row8\" >8</th>\n",
       "      <td id=\"T_a96d9_row8_col0\" class=\"data row8 col0\" >Customer Activity Index</td>\n",
       "      <td id=\"T_a96d9_row8_col1\" class=\"data row8 col1\" >1.000000</td>\n",
       "    </tr>\n",
       "    <tr>\n",
       "      <th id=\"T_a96d9_level0_row9\" class=\"row_heading level0 row9\" >9</th>\n",
       "      <td id=\"T_a96d9_row9_col0\" class=\"data row9 col0\" >Province</td>\n",
       "      <td id=\"T_a96d9_row9_col1\" class=\"data row9 col1\" >CORDOBA</td>\n",
       "    </tr>\n",
       "    <tr>\n",
       "      <th id=\"T_a96d9_level0_row10\" class=\"row_heading level0 row10\" >10</th>\n",
       "      <td id=\"T_a96d9_row10_col0\" class=\"data row10 col0\" >Account Age (Days)</td>\n",
       "      <td id=\"T_a96d9_row10_col1\" class=\"data row10 col1\" >5365.000000</td>\n",
       "    </tr>\n",
       "  </tbody>\n",
       "</table>\n"
      ],
      "text/plain": [
       "<pandas.io.formats.style.Styler at 0x7fd52e7ced70>"
      ]
     },
     "metadata": {},
     "output_type": "display_data"
    },
    {
     "data": {
      "text/markdown": [
       "## Important Note"
      ],
      "text/plain": [
       "<IPython.core.display.Markdown object>"
      ]
     },
     "metadata": {},
     "output_type": "display_data"
    },
    {
     "data": {
      "text/markdown": [
       "This user is from the test dataset. Their interactions were not used to train the recommender system, ensuring that these recommendations are genuinely new and not based on known preferences."
      ],
      "text/plain": [
       "<IPython.core.display.Markdown object>"
      ]
     },
     "metadata": {},
     "output_type": "display_data"
    },
    {
     "data": {
      "text/markdown": [
       "## Precision Metrics"
      ],
      "text/plain": [
       "<IPython.core.display.Markdown object>"
      ]
     },
     "metadata": {},
     "output_type": "display_data"
    },
    {
     "data": {
      "text/html": [
       "<style type=\"text/css\">\n",
       "#T_48f17_row0_col0, #T_48f17_row0_col1, #T_48f17_row1_col0, #T_48f17_row1_col1 {\n",
       "  text-align: left;\n",
       "}\n",
       "</style>\n",
       "<table id=\"T_48f17\">\n",
       "  <thead>\n",
       "    <tr>\n",
       "      <th class=\"blank level0\" >&nbsp;</th>\n",
       "      <th id=\"T_48f17_level0_col0\" class=\"col_heading level0 col0\" >Metric</th>\n",
       "      <th id=\"T_48f17_level0_col1\" class=\"col_heading level0 col1\" >Value</th>\n",
       "    </tr>\n",
       "  </thead>\n",
       "  <tbody>\n",
       "    <tr>\n",
       "      <th id=\"T_48f17_level0_row0\" class=\"row_heading level0 row0\" >0</th>\n",
       "      <td id=\"T_48f17_row0_col0\" class=\"data row0 col0\" >Precision@5</td>\n",
       "      <td id=\"T_48f17_row0_col1\" class=\"data row0 col1\" >0.6000</td>\n",
       "    </tr>\n",
       "    <tr>\n",
       "      <th id=\"T_48f17_level0_row1\" class=\"row_heading level0 row1\" >1</th>\n",
       "      <td id=\"T_48f17_row1_col0\" class=\"data row1 col0\" >Precision@10</td>\n",
       "      <td id=\"T_48f17_row1_col1\" class=\"data row1 col1\" >0.6000</td>\n",
       "    </tr>\n",
       "  </tbody>\n",
       "</table>\n"
      ],
      "text/plain": [
       "<pandas.io.formats.style.Styler at 0x7fd50cdec1c0>"
      ]
     },
     "metadata": {},
     "output_type": "display_data"
    },
    {
     "data": {
      "text/markdown": [
       "### Explanation of Precision Metrics"
      ],
      "text/plain": [
       "<IPython.core.display.Markdown object>"
      ]
     },
     "metadata": {},
     "output_type": "display_data"
    },
    {
     "data": {
      "text/markdown": [
       "Precision@K measures the proportion of recommended items in the top-K that are relevant.\n",
       "- **Precision@5**: Out of the top 5 recommended items, this fraction was actually relevant to the user.\n",
       "- **Precision@10**: Out of the top 10 recommended items, this fraction was actually relevant to the user.\n",
       "A higher value indicates better recommendation accuracy."
      ],
      "text/plain": [
       "<IPython.core.display.Markdown object>"
      ]
     },
     "metadata": {},
     "output_type": "display_data"
    },
    {
     "data": {
      "text/markdown": [
       "## Recommended Items Analysis"
      ],
      "text/plain": [
       "<IPython.core.display.Markdown object>"
      ]
     },
     "metadata": {},
     "output_type": "display_data"
    },
    {
     "data": {
      "text/markdown": [
       "### Correctly Recommended Items (with rankings)"
      ],
      "text/plain": [
       "<IPython.core.display.Markdown object>"
      ]
     },
     "metadata": {},
     "output_type": "display_data"
    },
    {
     "data": {
      "text/markdown": [
       " Current Accounts (1)\n",
       " Direct Debit (2)\n",
       " Particular Plus Account (3)\n",
       " e-Account (4)\n",
       " Payroll Account (6)\n",
       " Particular Account (9)\n",
       " Credit Card (10)"
      ],
      "text/plain": [
       "<IPython.core.display.Markdown object>"
      ]
     },
     "metadata": {},
     "output_type": "display_data"
    },
    {
     "data": {
      "text/markdown": [
       "### Incorrectly Recommended Items (with rankings)"
      ],
      "text/plain": [
       "<IPython.core.display.Markdown object>"
      ]
     },
     "metadata": {},
     "output_type": "display_data"
    },
    {
     "data": {
      "text/markdown": [
       " Junior Account (5)\n",
       " Long-term Deposits (7)\n",
       " Taxes (8)"
      ],
      "text/plain": [
       "<IPython.core.display.Markdown object>"
      ]
     },
     "metadata": {},
     "output_type": "display_data"
    },
    {
     "data": {
      "text/markdown": [
       "### Unrecommended Items (Items in test data but not recommended)"
      ],
      "text/plain": [
       "<IPython.core.display.Markdown object>"
      ]
     },
     "metadata": {},
     "output_type": "display_data"
    },
    {
     "data": {
      "text/markdown": [
       "- Mortgage\n",
       "- Payroll\n",
       "- Securities\n",
       "- Pensions"
      ],
      "text/plain": [
       "<IPython.core.display.Markdown object>"
      ]
     },
     "metadata": {},
     "output_type": "display_data"
    }
   ],
   "source": [
    "user_result, user_data = analyze_user_recommendations(199855, results_df, items_df, users_df_filtered)"
   ]
  },
  {
   "cell_type": "markdown",
   "metadata": {},
   "source": [
    "## Conclusion\n",
    "\n",
    "This notebook has demonstrated how to test an AWS Personalize recommender using test files stored in S3. We've loaded the data, made recommendations for each user, calculated precision metrics, and provided a way to analyze individual user recommendations.\n",
    "\n",
    "To further improve this analysis, you might consider:\n",
    "1. Implementing additional evaluation metrics (e.g., NDCG, MAP)\n",
    "2. Analyzing recommendation performance across different user segments\n",
    "3. Visualizing the results using matplotlib or seaborn\n",
    "4. Comparing results against a baseline recommender (e.g., popularity-based)"
   ]
  },
  {
   "cell_type": "code",
   "execution_count": 9,
   "metadata": {},
   "outputs": [
    {
     "data": {
      "text/html": [
       "<div>\n",
       "<style scoped>\n",
       "    .dataframe tbody tr th:only-of-type {\n",
       "        vertical-align: middle;\n",
       "    }\n",
       "\n",
       "    .dataframe tbody tr th {\n",
       "        vertical-align: top;\n",
       "    }\n",
       "\n",
       "    .dataframe thead th {\n",
       "        text-align: right;\n",
       "    }\n",
       "</style>\n",
       "<table border=\"1\" class=\"dataframe\">\n",
       "  <thead>\n",
       "    <tr style=\"text-align: right;\">\n",
       "      <th></th>\n",
       "      <th>USER_ID</th>\n",
       "      <th>AGE</th>\n",
       "      <th>CUSTOMER_TENURE</th>\n",
       "      <th>INCOME</th>\n",
       "      <th>NEW_CUSTOMER</th>\n",
       "      <th>SEGMENT</th>\n",
       "      <th>EMPLOYEE_INDEX</th>\n",
       "      <th>COUNTRY_RESIDENCE</th>\n",
       "      <th>SEX</th>\n",
       "      <th>CUSTOMER_ACTIVITY_INDEX</th>\n",
       "      <th>PROVINCE_NAME</th>\n",
       "      <th>ACCOUNT_AGE_DAYS</th>\n",
       "    </tr>\n",
       "  </thead>\n",
       "  <tbody>\n",
       "    <tr>\n",
       "      <th>347500</th>\n",
       "      <td>199855</td>\n",
       "      <td>43</td>\n",
       "      <td>182</td>\n",
       "      <td>85648.56</td>\n",
       "      <td>0.0</td>\n",
       "      <td>02 - PARTICULARES</td>\n",
       "      <td>N</td>\n",
       "      <td>ES</td>\n",
       "      <td>V</td>\n",
       "      <td>1.0</td>\n",
       "      <td>CORDOBA</td>\n",
       "      <td>5365.0</td>\n",
       "    </tr>\n",
       "    <tr>\n",
       "      <th>498192</th>\n",
       "      <td>199855</td>\n",
       "      <td>43</td>\n",
       "      <td>184</td>\n",
       "      <td>85648.56</td>\n",
       "      <td>0.0</td>\n",
       "      <td>02 - PARTICULARES</td>\n",
       "      <td>N</td>\n",
       "      <td>ES</td>\n",
       "      <td>V</td>\n",
       "      <td>1.0</td>\n",
       "      <td>CORDOBA</td>\n",
       "      <td>5365.0</td>\n",
       "    </tr>\n",
       "    <tr>\n",
       "      <th>693243</th>\n",
       "      <td>199855</td>\n",
       "      <td>43</td>\n",
       "      <td>179</td>\n",
       "      <td>85648.56</td>\n",
       "      <td>0.0</td>\n",
       "      <td>02 - PARTICULARES</td>\n",
       "      <td>N</td>\n",
       "      <td>ES</td>\n",
       "      <td>V</td>\n",
       "      <td>1.0</td>\n",
       "      <td>CORDOBA</td>\n",
       "      <td>5365.0</td>\n",
       "    </tr>\n",
       "    <tr>\n",
       "      <th>735693</th>\n",
       "      <td>199855</td>\n",
       "      <td>43</td>\n",
       "      <td>177</td>\n",
       "      <td>85648.56</td>\n",
       "      <td>0.0</td>\n",
       "      <td>02 - PARTICULARES</td>\n",
       "      <td>N</td>\n",
       "      <td>ES</td>\n",
       "      <td>V</td>\n",
       "      <td>1.0</td>\n",
       "      <td>CORDOBA</td>\n",
       "      <td>5365.0</td>\n",
       "    </tr>\n",
       "  </tbody>\n",
       "</table>\n",
       "</div>"
      ],
      "text/plain": [
       "        USER_ID  AGE CUSTOMER_TENURE    INCOME  NEW_CUSTOMER  \\\n",
       "347500   199855   43             182  85648.56           0.0   \n",
       "498192   199855   43             184  85648.56           0.0   \n",
       "693243   199855   43             179  85648.56           0.0   \n",
       "735693   199855   43             177  85648.56           0.0   \n",
       "\n",
       "                  SEGMENT EMPLOYEE_INDEX COUNTRY_RESIDENCE SEX  \\\n",
       "347500  02 - PARTICULARES              N                ES   V   \n",
       "498192  02 - PARTICULARES              N                ES   V   \n",
       "693243  02 - PARTICULARES              N                ES   V   \n",
       "735693  02 - PARTICULARES              N                ES   V   \n",
       "\n",
       "        CUSTOMER_ACTIVITY_INDEX PROVINCE_NAME  ACCOUNT_AGE_DAYS  \n",
       "347500                      1.0       CORDOBA            5365.0  \n",
       "498192                      1.0       CORDOBA            5365.0  \n",
       "693243                      1.0       CORDOBA            5365.0  \n",
       "735693                      1.0       CORDOBA            5365.0  "
      ]
     },
     "execution_count": 9,
     "metadata": {},
     "output_type": "execute_result"
    }
   ],
   "source": []
  },
  {
   "cell_type": "code",
   "execution_count": null,
   "metadata": {},
   "outputs": [],
   "source": []
  }
 ],
 "metadata": {
  "kernelspec": {
   "display_name": "Python 3 (ipykernel)",
   "language": "python",
   "name": "python3"
  },
  "language_info": {
   "codemirror_mode": {
    "name": "ipython",
    "version": 3
   },
   "file_extension": ".py",
   "mimetype": "text/x-python",
   "name": "python",
   "nbconvert_exporter": "python",
   "pygments_lexer": "ipython3",
   "version": "3.10.14"
  }
 },
 "nbformat": 4,
 "nbformat_minor": 4
}
